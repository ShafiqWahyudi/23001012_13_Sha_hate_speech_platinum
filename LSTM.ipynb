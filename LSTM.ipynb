{
 "cells": [
  {
   "cell_type": "code",
   "execution_count": 1,
   "id": "aba977d0-4275-4ef1-99e0-93805179fc40",
   "metadata": {
    "tags": []
   },
   "outputs": [
    {
     "name": "stdout",
     "output_type": "stream",
     "text": [
      "WARNING:tensorflow:From C:\\Users\\User\\anaconda3\\Lib\\site-packages\\keras\\src\\losses.py:2976: The name tf.losses.sparse_softmax_cross_entropy is deprecated. Please use tf.compat.v1.losses.sparse_softmax_cross_entropy instead.\n",
      "\n"
     ]
    }
   ],
   "source": [
    "import pandas as pd\n",
    "from Sastrawi.StopWordRemover.StopWordRemoverFactory import StopWordRemoverFactory\n",
    "import matplotlib.pyplot as plt\n",
    "import seaborn as sns\n",
    "import string\n",
    "import regex as re\n",
    "import numpy as np\n",
    "from keras.models import load_model"
   ]
  },
  {
   "cell_type": "code",
   "execution_count": 2,
   "id": "2746214d-e542-4908-a586-c8321334a124",
   "metadata": {
    "tags": []
   },
   "outputs": [
    {
     "data": {
      "text/html": [
       "<div>\n",
       "<style scoped>\n",
       "    .dataframe tbody tr th:only-of-type {\n",
       "        vertical-align: middle;\n",
       "    }\n",
       "\n",
       "    .dataframe tbody tr th {\n",
       "        vertical-align: top;\n",
       "    }\n",
       "\n",
       "    .dataframe thead th {\n",
       "        text-align: right;\n",
       "    }\n",
       "</style>\n",
       "<table border=\"1\" class=\"dataframe\">\n",
       "  <thead>\n",
       "    <tr style=\"text-align: right;\">\n",
       "      <th></th>\n",
       "      <th>tweet</th>\n",
       "      <th>sentiment</th>\n",
       "    </tr>\n",
       "  </thead>\n",
       "  <tbody>\n",
       "    <tr>\n",
       "      <th>0</th>\n",
       "      <td>warung ini dimiliki oleh pengusaha pabrik tahu...</td>\n",
       "      <td>positive</td>\n",
       "    </tr>\n",
       "    <tr>\n",
       "      <th>1</th>\n",
       "      <td>mohon ulama lurus dan k212 mmbri hujjah partai...</td>\n",
       "      <td>neutral</td>\n",
       "    </tr>\n",
       "    <tr>\n",
       "      <th>2</th>\n",
       "      <td>lokasi strategis di jalan sumatera bandung . t...</td>\n",
       "      <td>positive</td>\n",
       "    </tr>\n",
       "    <tr>\n",
       "      <th>3</th>\n",
       "      <td>betapa bahagia nya diri ini saat unboxing pake...</td>\n",
       "      <td>positive</td>\n",
       "    </tr>\n",
       "    <tr>\n",
       "      <th>4</th>\n",
       "      <td>duh . jadi mahasiswa jangan sombong dong . kas...</td>\n",
       "      <td>negative</td>\n",
       "    </tr>\n",
       "  </tbody>\n",
       "</table>\n",
       "</div>"
      ],
      "text/plain": [
       "                                               tweet sentiment\n",
       "0  warung ini dimiliki oleh pengusaha pabrik tahu...  positive\n",
       "1  mohon ulama lurus dan k212 mmbri hujjah partai...   neutral\n",
       "2  lokasi strategis di jalan sumatera bandung . t...  positive\n",
       "3  betapa bahagia nya diri ini saat unboxing pake...  positive\n",
       "4  duh . jadi mahasiswa jangan sombong dong . kas...  negative"
      ]
     },
     "execution_count": 2,
     "metadata": {},
     "output_type": "execute_result"
    }
   ],
   "source": [
    "df = pd.read_csv('train_preprocess.tsv', delimiter = '\\t', header = None)\n",
    "df.columns = ['tweet', 'sentiment']\n",
    "df.head()"
   ]
  },
  {
   "cell_type": "code",
   "execution_count": 3,
   "id": "5ae832b9-e298-4c52-892c-2c01db68fa46",
   "metadata": {
    "tags": []
   },
   "outputs": [],
   "source": [
    "def cleaning_tweet(text):\n",
    "    text = \"\".join([word.lower() for word in text if word not in string.punctuation])\n",
    "    text = re.sub(r'http\\S+', ' ', text)\n",
    "    text = re.sub(r'\\d+',' ', text)\n",
    "    return text"
   ]
  },
  {
   "cell_type": "code",
   "execution_count": 4,
   "id": "8e2e8578-f1c0-443d-9e13-86f8c3e9e86d",
   "metadata": {
    "tags": []
   },
   "outputs": [],
   "source": [
    "df['clean_tweet'] = df['tweet'].apply(lambda x: cleaning_tweet(x))"
   ]
  },
  {
   "cell_type": "code",
   "execution_count": 5,
   "id": "8b638f49-9cd2-4d71-905e-815200f3812c",
   "metadata": {
    "tags": []
   },
   "outputs": [
    {
     "data": {
      "text/plain": [
       "positive    6416\n",
       "negative    3436\n",
       "neutral     1148\n",
       "Name: sentiment, dtype: int64"
      ]
     },
     "execution_count": 5,
     "metadata": {},
     "output_type": "execute_result"
    }
   ],
   "source": [
    "df['sentiment'].value_counts()"
   ]
  },
  {
   "cell_type": "code",
   "execution_count": 6,
   "id": "e365a9aa-16ff-4be7-9ab1-ce4ce28c1186",
   "metadata": {
    "tags": []
   },
   "outputs": [
    {
     "data": {
      "text/html": [
       "<div>\n",
       "<style scoped>\n",
       "    .dataframe tbody tr th:only-of-type {\n",
       "        vertical-align: middle;\n",
       "    }\n",
       "\n",
       "    .dataframe tbody tr th {\n",
       "        vertical-align: top;\n",
       "    }\n",
       "\n",
       "    .dataframe thead th {\n",
       "        text-align: right;\n",
       "    }\n",
       "</style>\n",
       "<table border=\"1\" class=\"dataframe\">\n",
       "  <thead>\n",
       "    <tr style=\"text-align: right;\">\n",
       "      <th></th>\n",
       "      <th>tweet</th>\n",
       "      <th>sentiment</th>\n",
       "      <th>clean_tweet</th>\n",
       "    </tr>\n",
       "  </thead>\n",
       "  <tbody>\n",
       "    <tr>\n",
       "      <th>0</th>\n",
       "      <td>warung ini dimiliki oleh pengusaha pabrik tahu...</td>\n",
       "      <td>positive</td>\n",
       "      <td>warung ini dimiliki oleh pengusaha pabrik tahu...</td>\n",
       "    </tr>\n",
       "    <tr>\n",
       "      <th>1</th>\n",
       "      <td>mohon ulama lurus dan k212 mmbri hujjah partai...</td>\n",
       "      <td>neutral</td>\n",
       "      <td>mohon ulama lurus dan k  mmbri hujjah partai a...</td>\n",
       "    </tr>\n",
       "    <tr>\n",
       "      <th>2</th>\n",
       "      <td>lokasi strategis di jalan sumatera bandung . t...</td>\n",
       "      <td>positive</td>\n",
       "      <td>lokasi strategis di jalan sumatera bandung  te...</td>\n",
       "    </tr>\n",
       "    <tr>\n",
       "      <th>3</th>\n",
       "      <td>betapa bahagia nya diri ini saat unboxing pake...</td>\n",
       "      <td>positive</td>\n",
       "      <td>betapa bahagia nya diri ini saat unboxing pake...</td>\n",
       "    </tr>\n",
       "    <tr>\n",
       "      <th>4</th>\n",
       "      <td>duh . jadi mahasiswa jangan sombong dong . kas...</td>\n",
       "      <td>negative</td>\n",
       "      <td>duh  jadi mahasiswa jangan sombong dong  kasih...</td>\n",
       "    </tr>\n",
       "    <tr>\n",
       "      <th>...</th>\n",
       "      <td>...</td>\n",
       "      <td>...</td>\n",
       "      <td>...</td>\n",
       "    </tr>\n",
       "    <tr>\n",
       "      <th>10995</th>\n",
       "      <td>tidak kecewa</td>\n",
       "      <td>positive</td>\n",
       "      <td>tidak kecewa</td>\n",
       "    </tr>\n",
       "    <tr>\n",
       "      <th>10996</th>\n",
       "      <td>enak rasa masakan nya apalagi kepiting yang me...</td>\n",
       "      <td>positive</td>\n",
       "      <td>enak rasa masakan nya apalagi kepiting yang me...</td>\n",
       "    </tr>\n",
       "    <tr>\n",
       "      <th>10997</th>\n",
       "      <td>hormati partai-partai yang telah berkoalisi</td>\n",
       "      <td>neutral</td>\n",
       "      <td>hormati partaipartai yang telah berkoalisi</td>\n",
       "    </tr>\n",
       "    <tr>\n",
       "      <th>10998</th>\n",
       "      <td>pagi pagi di tol pasteur sudah macet parah , b...</td>\n",
       "      <td>negative</td>\n",
       "      <td>pagi pagi di tol pasteur sudah macet parah  bi...</td>\n",
       "    </tr>\n",
       "    <tr>\n",
       "      <th>10999</th>\n",
       "      <td>meskipun sering belanja ke yogya di riau junct...</td>\n",
       "      <td>positive</td>\n",
       "      <td>meskipun sering belanja ke yogya di riau junct...</td>\n",
       "    </tr>\n",
       "  </tbody>\n",
       "</table>\n",
       "<p>11000 rows × 3 columns</p>\n",
       "</div>"
      ],
      "text/plain": [
       "                                                   tweet sentiment  \\\n",
       "0      warung ini dimiliki oleh pengusaha pabrik tahu...  positive   \n",
       "1      mohon ulama lurus dan k212 mmbri hujjah partai...   neutral   \n",
       "2      lokasi strategis di jalan sumatera bandung . t...  positive   \n",
       "3      betapa bahagia nya diri ini saat unboxing pake...  positive   \n",
       "4      duh . jadi mahasiswa jangan sombong dong . kas...  negative   \n",
       "...                                                  ...       ...   \n",
       "10995                                       tidak kecewa  positive   \n",
       "10996  enak rasa masakan nya apalagi kepiting yang me...  positive   \n",
       "10997        hormati partai-partai yang telah berkoalisi   neutral   \n",
       "10998  pagi pagi di tol pasteur sudah macet parah , b...  negative   \n",
       "10999  meskipun sering belanja ke yogya di riau junct...  positive   \n",
       "\n",
       "                                             clean_tweet  \n",
       "0      warung ini dimiliki oleh pengusaha pabrik tahu...  \n",
       "1      mohon ulama lurus dan k  mmbri hujjah partai a...  \n",
       "2      lokasi strategis di jalan sumatera bandung  te...  \n",
       "3      betapa bahagia nya diri ini saat unboxing pake...  \n",
       "4      duh  jadi mahasiswa jangan sombong dong  kasih...  \n",
       "...                                                  ...  \n",
       "10995                                       tidak kecewa  \n",
       "10996  enak rasa masakan nya apalagi kepiting yang me...  \n",
       "10997         hormati partaipartai yang telah berkoalisi  \n",
       "10998  pagi pagi di tol pasteur sudah macet parah  bi...  \n",
       "10999  meskipun sering belanja ke yogya di riau junct...  \n",
       "\n",
       "[11000 rows x 3 columns]"
      ]
     },
     "execution_count": 6,
     "metadata": {},
     "output_type": "execute_result"
    }
   ],
   "source": [
    "df"
   ]
  },
  {
   "cell_type": "code",
   "execution_count": 7,
   "id": "d15b39c2-d71d-42f2-9ec3-5cf53eb1fe39",
   "metadata": {
    "tags": []
   },
   "outputs": [],
   "source": [
    "positif = df[df['sentiment']=='positive']\n",
    "netral = df[df['sentiment']=='neutral']\n",
    "negatif = df[df['sentiment']=='negative']\n",
    "\n",
    "neu = netral.sample(negatif.shape[0], replace = True)\n",
    "\n",
    "df = pd.concat([positif, neu, negatif])"
   ]
  },
  {
   "cell_type": "code",
   "execution_count": 9,
   "id": "9612956c-ee8a-45cb-a99e-92b56a503a8e",
   "metadata": {
    "tags": []
   },
   "outputs": [],
   "source": [
    "neg = df.loc[df['sentiment'] == 'negative'].clean_tweet.tolist()\n",
    "neu = df.loc[df['sentiment'] == 'neutral'].clean_tweet.tolist()\n",
    "pos = df.loc[df['sentiment'] == 'positive'].clean_tweet.tolist()\n",
    "\n",
    "neg_sentiment = df.loc[df['sentiment'] == 'negative'].sentiment.tolist()\n",
    "neu_sentiment = df.loc[df['sentiment'] == 'neutral'].sentiment.tolist()\n",
    "pos_sentiment = df.loc[df['sentiment'] == 'positive'].sentiment.tolist()"
   ]
  },
  {
   "cell_type": "code",
   "execution_count": 10,
   "id": "c92c17e2-736a-41d3-8fbf-d4c7f788a5d1",
   "metadata": {
    "tags": []
   },
   "outputs": [],
   "source": [
    "total_data = pos + neu + neg\n",
    "labels = pos_sentiment + neu_sentiment + neg_sentiment"
   ]
  },
  {
   "cell_type": "code",
   "execution_count": 11,
   "id": "8fcd8712-9a1a-4468-875f-df531104bb76",
   "metadata": {
    "tags": []
   },
   "outputs": [
    {
     "data": {
      "text/plain": [
       "positive    6416\n",
       "neutral     3436\n",
       "negative    3436\n",
       "Name: sentiment, dtype: int64"
      ]
     },
     "execution_count": 11,
     "metadata": {},
     "output_type": "execute_result"
    }
   ],
   "source": [
    "df['sentiment'].value_counts()"
   ]
  },
  {
   "cell_type": "code",
   "execution_count": 12,
   "id": "c27505f4-15cb-4c06-a054-0f3c04206ade",
   "metadata": {
    "tags": []
   },
   "outputs": [],
   "source": [
    "from tensorflow.keras.preprocessing.text import Tokenizer\n",
    "from tensorflow.keras.preprocessing.sequence import pad_sequences"
   ]
  },
  {
   "cell_type": "code",
   "execution_count": 13,
   "id": "df9fa77a-454f-460b-be33-496671160d87",
   "metadata": {
    "tags": []
   },
   "outputs": [],
   "source": [
    "X = total_data\n",
    "y = labels"
   ]
  },
  {
   "cell_type": "code",
   "execution_count": 15,
   "id": "31703942-fb69-4fcf-94d5-20f7e2088d52",
   "metadata": {
    "tags": []
   },
   "outputs": [
    {
     "name": "stdout",
     "output_type": "stream",
     "text": [
      "\n",
      "Before tokenizing :\n",
      "makanan tradisional yang selalu rasanya stabil iga garang asam nya dan java steak nya jangan lupa ya dicoba hidangan penutup semua kue enak lemper soes fla gulung  enak sekali tidak ada yang tidak enak kalau makanan di sini \n"
     ]
    }
   ],
   "source": [
    "print(\"\\nBefore tokenizing :\\n{}\".format(X[18]))"
   ]
  },
  {
   "cell_type": "code",
   "execution_count": 16,
   "id": "954bc7ec-7160-4feb-8bef-af74218e1af8",
   "metadata": {
    "tags": []
   },
   "outputs": [
    {
     "name": "stdout",
     "output_type": "stream",
     "text": [
      "\n",
      "After tokenizing :\n",
      "[9, 385, 2, 98, 37, 3650, 576, 1815, 828, 1, 4, 1272, 92, 1, 129, 314, 60, 194, 355, 681, 96, 347, 12, 10063, 10064, 10065, 7685, 12, 44, 6, 16, 2, 6, 12, 30, 9, 3, 20]\n"
     ]
    }
   ],
   "source": [
    "max_features = 100000\n",
    "tokenizer = Tokenizer(num_words = max_features, split=' ', lower=True)\n",
    "tokenizer.fit_on_texts(X)\n",
    "\n",
    "X = tokenizer.texts_to_sequences(X)\n",
    "\n",
    "\n",
    "print(\"\\nAfter tokenizing :\\n{}\".format(X[18]))"
   ]
  },
  {
   "cell_type": "code",
   "execution_count": 17,
   "id": "02a8e4e4-e8e2-43d1-82a0-22d4677352d6",
   "metadata": {
    "tags": []
   },
   "outputs": [
    {
     "name": "stdout",
     "output_type": "stream",
     "text": [
      "\n",
      "After padding :\n",
      "[    0     0     0     0     0     0     0     0     0     0     0     0\n",
      "     0     0     0     0     0     0     0     0     0     0     0     0\n",
      "     0     0     0     0     0     0     0     0     0     0     0     0\n",
      "     0     0     0     0     0     0     0     0     0     0     0     9\n",
      "   385     2    98    37  3650   576  1815   828     1     4  1272    92\n",
      "     1   129   314    60   194   355   681    96   347    12 10063 10064\n",
      " 10065  7685    12    44     6    16     2     6    12    30     9     3\n",
      "    20]\n",
      "\n",
      "After padding :\n",
      "[   0    0    0    0    0    0    0    0    0    0    0    0    0    0\n",
      "    0    0    0    0    0    0    0    0    0    0    0    0    0    0\n",
      "    0    0    0    0    0    0    0    0    0    0    0    0    0    0\n",
      "   71   63    8    5   34  167    8   75    2 1291    3   67   21  845\n",
      "    7  167  183    2    5  158  149  214  591    1   76   37    3  320\n",
      "    4  167    1   14    6 1739  855    1  975  164   10    2  179  158\n",
      "  149]\n"
     ]
    }
   ],
   "source": [
    "X = pad_sequences(X)\n",
    "\n",
    "print(\"\\nAfter padding :\\n{}\".format(X[18]))\n",
    "print(\"\\nAfter padding :\\n{}\".format(X[19]))"
   ]
  },
  {
   "cell_type": "code",
   "execution_count": 18,
   "id": "c8f5176a-b89c-4199-85a0-5f92f3cca70a",
   "metadata": {
    "tags": []
   },
   "outputs": [],
   "source": [
    "y = pd.get_dummies(y)\n",
    "y = y.values"
   ]
  },
  {
   "cell_type": "code",
   "execution_count": 19,
   "id": "34d636ab-c86f-4c7b-a2bb-0b75e1b46f11",
   "metadata": {
    "tags": []
   },
   "outputs": [
    {
     "data": {
      "text/plain": [
       "array([[0, 0, 1],\n",
       "       [0, 0, 1],\n",
       "       [0, 0, 1],\n",
       "       ...,\n",
       "       [1, 0, 0],\n",
       "       [1, 0, 0],\n",
       "       [1, 0, 0]], dtype=uint8)"
      ]
     },
     "execution_count": 19,
     "metadata": {},
     "output_type": "execute_result"
    }
   ],
   "source": [
    "y"
   ]
  },
  {
   "cell_type": "code",
   "execution_count": 20,
   "id": "b4292c73-03a1-4743-be79-4683c33fa6fc",
   "metadata": {
    "tags": []
   },
   "outputs": [],
   "source": [
    "from sklearn.model_selection import train_test_split\n",
    "X_train, X_test, y_train, y_test = train_test_split(X, y, test_size=0.2, random_state=42)"
   ]
  },
  {
   "cell_type": "code",
   "execution_count": 21,
   "id": "69d1da0e-3254-434f-8afa-f534a1881a30",
   "metadata": {
    "tags": []
   },
   "outputs": [
    {
     "name": "stdout",
     "output_type": "stream",
     "text": [
      "X_train (10630, 85)\n",
      "y_train (10630, 3)\n",
      "X_test (2658, 85)\n",
      "y_test (2658, 3)\n"
     ]
    }
   ],
   "source": [
    "print('X_train', X_train.shape)\n",
    "print('y_train', y_train.shape)\n",
    "print('X_test', X_test.shape)\n",
    "print('y_test', y_test.shape)"
   ]
  },
  {
   "cell_type": "code",
   "execution_count": 22,
   "id": "5e583ce7-c09a-455d-8eb2-dd65a071316e",
   "metadata": {
    "tags": []
   },
   "outputs": [],
   "source": [
    "from tensorflow.keras import layers\n",
    "from tensorflow.keras.models import Sequential\n",
    "from tensorflow.keras.layers import Dense, Embedding, LSTM, SpatialDropout1D, SimpleRNN, Activation\n",
    "from tensorflow.keras import optimizers\n",
    "from tensorflow.keras.callbacks import EarlyStopping, TensorBoard\n",
    "from tensorflow.keras.layers import Flatten\n",
    "from tensorflow.keras import backend as K\n",
    "from sklearn import metrics\n",
    "from sklearn.metrics import classification_report\n",
    "from sklearn.metrics import accuracy_score\n",
    "from sklearn.model_selection import KFold"
   ]
  },
  {
   "cell_type": "code",
   "execution_count": 23,
   "id": "0265d626-b6d9-416e-97ef-9fddfba3aa29",
   "metadata": {
    "tags": []
   },
   "outputs": [
    {
     "name": "stdout",
     "output_type": "stream",
     "text": [
      "WARNING:tensorflow:From C:\\Users\\User\\anaconda3\\Lib\\site-packages\\keras\\src\\backend.py:873: The name tf.get_default_graph is deprecated. Please use tf.compat.v1.get_default_graph instead.\n",
      "\n",
      "Epoch 1/50\n",
      "WARNING:tensorflow:From C:\\Users\\User\\anaconda3\\Lib\\site-packages\\keras\\src\\utils\\tf_utils.py:492: The name tf.ragged.RaggedTensorValue is deprecated. Please use tf.compat.v1.ragged.RaggedTensorValue instead.\n",
      "\n",
      "WARNING:tensorflow:From C:\\Users\\User\\anaconda3\\Lib\\site-packages\\keras\\src\\engine\\base_layer_utils.py:384: The name tf.executing_eagerly_outside_functions is deprecated. Please use tf.compat.v1.executing_eagerly_outside_functions instead.\n",
      "\n",
      "333/333 [==============================] - 66s 175ms/step - loss: 0.6595 - accuracy: 0.7161 - val_loss: 0.4482 - val_accuracy: 0.8160\n",
      "Epoch 2/50\n",
      "333/333 [==============================] - 56s 168ms/step - loss: 0.3048 - accuracy: 0.8880 - val_loss: 0.3110 - val_accuracy: 0.8894\n",
      "Epoch 3/50\n",
      "333/333 [==============================] - 57s 170ms/step - loss: 0.1790 - accuracy: 0.9389 - val_loss: 0.2557 - val_accuracy: 0.9071\n",
      "Epoch 4/50\n",
      "333/333 [==============================] - 57s 171ms/step - loss: 0.1254 - accuracy: 0.9569 - val_loss: 0.2524 - val_accuracy: 0.9108\n",
      "Epoch 5/50\n",
      "333/333 [==============================] - 57s 171ms/step - loss: 0.0904 - accuracy: 0.9682 - val_loss: 0.2786 - val_accuracy: 0.9011\n",
      "Epoch 6/50\n",
      "333/333 [==============================] - 57s 171ms/step - loss: 0.0712 - accuracy: 0.9731 - val_loss: 0.2983 - val_accuracy: 0.9044\n",
      "Epoch 6: early stopping\n",
      "84/84 [==============================] - 3s 23ms/step\n",
      "Training ke- 1\n",
      "              precision    recall  f1-score   support\n",
      "\n",
      "           0       0.85      0.81      0.83       686\n",
      "           1       0.92      0.98      0.95       682\n",
      "           2       0.92      0.92      0.92      1290\n",
      "\n",
      "    accuracy                           0.90      2658\n",
      "   macro avg       0.90      0.90      0.90      2658\n",
      "weighted avg       0.90      0.90      0.90      2658\n",
      "\n",
      "======================================================\n",
      "Epoch 1/50\n",
      "333/333 [==============================] - 66s 178ms/step - loss: 0.6472 - accuracy: 0.7275 - val_loss: 0.3806 - val_accuracy: 0.8642\n",
      "Epoch 2/50\n",
      "333/333 [==============================] - 58s 173ms/step - loss: 0.2909 - accuracy: 0.8948 - val_loss: 0.2732 - val_accuracy: 0.9048\n",
      "Epoch 3/50\n",
      "333/333 [==============================] - 58s 173ms/step - loss: 0.1719 - accuracy: 0.9415 - val_loss: 0.2516 - val_accuracy: 0.9169\n",
      "Epoch 4/50\n",
      "333/333 [==============================] - 58s 174ms/step - loss: 0.1223 - accuracy: 0.9570 - val_loss: 0.2585 - val_accuracy: 0.9052\n",
      "Epoch 5/50\n",
      "333/333 [==============================] - 57s 172ms/step - loss: 0.0935 - accuracy: 0.9654 - val_loss: 0.2792 - val_accuracy: 0.9059\n",
      "Epoch 5: early stopping\n",
      "84/84 [==============================] - 3s 24ms/step\n",
      "Training ke- 2\n",
      "              precision    recall  f1-score   support\n",
      "\n",
      "           0       0.96      0.95      0.96       686\n",
      "           1       1.00      1.00      1.00       682\n",
      "           2       0.98      0.98      0.98      1290\n",
      "\n",
      "    accuracy                           0.98      2658\n",
      "   macro avg       0.98      0.98      0.98      2658\n",
      "weighted avg       0.98      0.98      0.98      2658\n",
      "\n",
      "======================================================\n",
      "Epoch 1/50\n",
      "333/333 [==============================] - 67s 178ms/step - loss: 0.6438 - accuracy: 0.7321 - val_loss: 0.3823 - val_accuracy: 0.8623\n",
      "Epoch 2/50\n",
      "333/333 [==============================] - 57s 172ms/step - loss: 0.2770 - accuracy: 0.9024 - val_loss: 0.2772 - val_accuracy: 0.8962\n",
      "Epoch 3/50\n",
      "333/333 [==============================] - 58s 174ms/step - loss: 0.1684 - accuracy: 0.9426 - val_loss: 0.2502 - val_accuracy: 0.9052\n",
      "Epoch 4/50\n",
      "333/333 [==============================] - 57s 172ms/step - loss: 0.1185 - accuracy: 0.9591 - val_loss: 0.2497 - val_accuracy: 0.9074\n",
      "Epoch 5/50\n",
      "333/333 [==============================] - 57s 172ms/step - loss: 0.0883 - accuracy: 0.9708 - val_loss: 0.2793 - val_accuracy: 0.9018\n",
      "Epoch 6/50\n",
      "333/333 [==============================] - 58s 173ms/step - loss: 0.0697 - accuracy: 0.9743 - val_loss: 0.2649 - val_accuracy: 0.9011\n",
      "Epoch 6: early stopping\n",
      "84/84 [==============================] - 3s 23ms/step\n",
      "Training ke- 3\n",
      "              precision    recall  f1-score   support\n",
      "\n",
      "           0       0.97      0.97      0.97       686\n",
      "           1       1.00      1.00      1.00       682\n",
      "           2       0.98      0.98      0.98      1290\n",
      "\n",
      "    accuracy                           0.98      2658\n",
      "   macro avg       0.98      0.98      0.98      2658\n",
      "weighted avg       0.98      0.98      0.98      2658\n",
      "\n",
      "======================================================\n",
      "Epoch 1/50\n",
      "333/333 [==============================] - 66s 177ms/step - loss: 0.6534 - accuracy: 0.7265 - val_loss: 0.4050 - val_accuracy: 0.8536\n",
      "Epoch 2/50\n",
      "333/333 [==============================] - 57s 171ms/step - loss: 0.2947 - accuracy: 0.8936 - val_loss: 0.2734 - val_accuracy: 0.9003\n",
      "Epoch 3/50\n",
      "333/333 [==============================] - 57s 171ms/step - loss: 0.1768 - accuracy: 0.9384 - val_loss: 0.2522 - val_accuracy: 0.9052\n",
      "Epoch 4/50\n",
      "333/333 [==============================] - 57s 171ms/step - loss: 0.1210 - accuracy: 0.9569 - val_loss: 0.2694 - val_accuracy: 0.9006\n",
      "Epoch 5/50\n",
      "333/333 [==============================] - 57s 171ms/step - loss: 0.0891 - accuracy: 0.9682 - val_loss: 0.2789 - val_accuracy: 0.9070\n",
      "Epoch 5: early stopping\n",
      "84/84 [==============================] - 3s 24ms/step\n",
      "Training ke- 4\n",
      "              precision    recall  f1-score   support\n",
      "\n",
      "           0       0.96      0.97      0.96       686\n",
      "           1       1.00      1.00      1.00       682\n",
      "           2       0.98      0.98      0.98      1290\n",
      "\n",
      "    accuracy                           0.98      2658\n",
      "   macro avg       0.98      0.98      0.98      2658\n",
      "weighted avg       0.98      0.98      0.98      2658\n",
      "\n",
      "======================================================\n",
      "Epoch 1/50\n",
      "333/333 [==============================] - 65s 176ms/step - loss: 0.6340 - accuracy: 0.7343 - val_loss: 0.4002 - val_accuracy: 0.8641\n",
      "Epoch 2/50\n",
      "333/333 [==============================] - 57s 172ms/step - loss: 0.2888 - accuracy: 0.8980 - val_loss: 0.2739 - val_accuracy: 0.9014\n",
      "Epoch 3/50\n",
      "333/333 [==============================] - 57s 171ms/step - loss: 0.1809 - accuracy: 0.9362 - val_loss: 0.2556 - val_accuracy: 0.9063\n",
      "Epoch 4/50\n",
      "333/333 [==============================] - 57s 171ms/step - loss: 0.1231 - accuracy: 0.9547 - val_loss: 0.2511 - val_accuracy: 0.9078\n",
      "Epoch 5/50\n",
      "333/333 [==============================] - 57s 172ms/step - loss: 0.0919 - accuracy: 0.9664 - val_loss: 0.2487 - val_accuracy: 0.9033\n",
      "Epoch 6/50\n",
      "333/333 [==============================] - 57s 171ms/step - loss: 0.0754 - accuracy: 0.9712 - val_loss: 0.2899 - val_accuracy: 0.9014\n",
      "Epoch 7/50\n",
      "333/333 [==============================] - 57s 171ms/step - loss: 0.0581 - accuracy: 0.9787 - val_loss: 0.2818 - val_accuracy: 0.8976\n",
      "Epoch 7: early stopping\n",
      "84/84 [==============================] - 3s 22ms/step\n",
      "Training ke- 5\n",
      "              precision    recall  f1-score   support\n",
      "\n",
      "           0       0.97      0.96      0.97       686\n",
      "           1       1.00      1.00      1.00       682\n",
      "           2       0.98      0.99      0.98      1290\n",
      "\n",
      "    accuracy                           0.98      2658\n",
      "   macro avg       0.98      0.98      0.98      2658\n",
      "weighted avg       0.98      0.98      0.98      2658\n",
      "\n",
      "======================================================\n"
     ]
    }
   ],
   "source": [
    "kf = KFold(n_splits=5,random_state=42,shuffle=True)\n",
    "\n",
    "accuracies = []\n",
    "\n",
    "embed_dim = 100\n",
    "units = 64\n",
    "\n",
    "for iteration, data in enumerate(kf.split(X), start=1):\n",
    "\n",
    "    data_train   = X[data[0]]\n",
    "    target_train = y[data[0]]\n",
    "\n",
    "    data_test    = X[data[1]]\n",
    "    target_test  = y[data[1]]\n",
    "    \n",
    "    # Create model architecture\n",
    "\n",
    "    model = Sequential()\n",
    "    model.add(Embedding(max_features, embed_dim, input_length=X.shape[1]))\n",
    "    model.add(LSTM(units, dropout=0.5))\n",
    "    model.add(Dense(3,activation='softmax'))\n",
    "    # model.compile(loss = 'binary_crossentropy', optimizer='adam', metrics = ['accuracy'])\n",
    "\n",
    "    adam = optimizers.Adam(learning_rate = 0.0005)\n",
    "    model.compile(loss = 'categorical_crossentropy', optimizer = adam, metrics = ['accuracy'])\n",
    "\n",
    "    es = EarlyStopping(monitor='val_loss', mode='min', verbose=1, patience=2)\n",
    "    history = model.fit(data_train, target_train, epochs=50, batch_size=32, \n",
    "                        validation_data=(data_test, target_test), verbose=1, callbacks=[es])\n",
    "\n",
    "    predictions = model.predict(X_test)\n",
    "    y_pred = predictions\n",
    "\n",
    "    # for the current fold only\n",
    "    \n",
    "    accuracy = accuracy_score(y_test.argmax(axis=1), y_pred.argmax(axis=1))\n",
    "\n",
    "    print(\"Training ke-\", iteration)\n",
    "    print(classification_report(y_test.argmax(axis=1), y_pred.argmax(axis=1)))\n",
    "    print(\"======================================================\")\n",
    "\n",
    "    accuracies.append(accuracy)\n",
    "\n",
    "# this is the average accuracy over all folds\n",
    "\n",
    "average_accuracy = np.mean(accuracies)"
   ]
  },
  {
   "cell_type": "code",
   "execution_count": 24,
   "id": "b0333ecd-47e7-4c14-aef3-c2279634d68d",
   "metadata": {
    "tags": []
   },
   "outputs": [
    {
     "name": "stdout",
     "output_type": "stream",
     "text": [
      "0.9657637321294207\n"
     ]
    }
   ],
   "source": [
    "print(average_accuracy)"
   ]
  },
  {
   "cell_type": "code",
   "execution_count": 25,
   "id": "f79cde3e-3d7e-4364-aa1e-7c2689fb2337",
   "metadata": {},
   "outputs": [
    {
     "name": "stderr",
     "output_type": "stream",
     "text": [
      "C:\\Users\\User\\anaconda3\\Lib\\site-packages\\keras\\src\\engine\\training.py:3103: UserWarning: You are saving your model as an HDF5 file via `model.save()`. This file format is considered legacy. We recommend using instead the native Keras format, e.g. `model.save('my_model.keras')`.\n",
      "  saving_api.save_model(\n"
     ]
    }
   ],
   "source": [
    "model.save('LSTM.h5')"
   ]
  },
  {
   "cell_type": "code",
   "execution_count": 27,
   "id": "0572e543-b19b-4641-926f-f19d04148720",
   "metadata": {
    "tags": []
   },
   "outputs": [
    {
     "data": {
      "image/png": "[encoded data removed]",
      "text/plain": [
       "<Figure size 2400x700 with 2 Axes>"
      ]
     },
     "metadata": {},
     "output_type": "display_data"
    }
   ],
   "source": [
    "plt.style.use('ggplot')\n",
    "\n",
    "def plot_history(history):\n",
    "    acc = history.history['accuracy']\n",
    "    val_acc = history.history['val_accuracy']\n",
    "    loss = history.history['loss']\n",
    "    val_loss = history.history['val_loss']\n",
    "    x = range(1, len(acc) + 1)\n",
    "\n",
    "    plt.figure(figsize=(24, 7))\n",
    "    plt.subplot(1, 2, 1)\n",
    "    plt.plot(x, acc, 'b', label='Training acc')\n",
    "    plt.plot(x, val_acc, 'r', label='Validation acc')\n",
    "    plt.title('Training and validation accuracy')\n",
    "    plt.legend()\n",
    "    plt.subplot(1, 2, 2)\n",
    "    plt.plot(x, loss, 'b', label='Training loss')\n",
    "    plt.plot(x, val_loss, 'r', label='Validation loss')\n",
    "    plt.title('Training and validation loss')\n",
    "    plt.legend()\n",
    "\n",
    "%matplotlib inline\n",
    "plot_history(history)"
   ]
  },
  {
   "cell_type": "code",
   "execution_count": null,
   "id": "e4c84905-cab4-4c43-b7f5-806772dc1496",
   "metadata": {},
   "outputs": [],
   "source": []
  }
 ],
 "metadata": {
  "kernelspec": {
   "display_name": "Python 3 (ipykernel)",
   "language": "python",
   "name": "python3"
  },
  "language_info": {
   "codemirror_mode": {
    "name": "ipython",
    "version": 3
   },
   "file_extension": ".py",
   "mimetype": "text/x-python",
   "name": "python",
   "nbconvert_exporter": "python",
   "pygments_lexer": "ipython3",
   "version": "3.11.4"
  }
 },
 "nbformat": 4,
 "nbformat_minor": 5
}
