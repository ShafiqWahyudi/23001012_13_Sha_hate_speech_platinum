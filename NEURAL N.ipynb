{
 "cells": [
  {
   "cell_type": "code",
   "execution_count": 1,
   "id": "1b52994c-4a1c-4d48-bf81-4f523fc670a7",
   "metadata": {
    "tags": []
   },
   "outputs": [
    {
     "name": "stdout",
     "output_type": "stream",
     "text": [
      "WARNING:tensorflow:From C:\\Users\\User\\anaconda3\\Lib\\site-packages\\keras\\src\\losses.py:2976: The name tf.losses.sparse_softmax_cross_entropy is deprecated. Please use tf.compat.v1.losses.sparse_softmax_cross_entropy instead.\n",
      "\n"
     ]
    }
   ],
   "source": [
    "import pandas as pd\n",
    "from Sastrawi.StopWordRemover.StopWordRemoverFactory import StopWordRemoverFactory\n",
    "import matplotlib.pyplot as plt\n",
    "import seaborn as sns\n",
    "import string\n",
    "import regex as re\n",
    "import numpy as np\n",
    "import pickle\n",
    "from keras.models import load_model"
   ]
  },
  {
   "cell_type": "code",
   "execution_count": 2,
   "id": "ff60f1b5-fae4-4b1f-a5be-23d436e5ceb8",
   "metadata": {
    "tags": []
   },
   "outputs": [
    {
     "data": {
      "text/html": [
       "<div>\n",
       "<style scoped>\n",
       "    .dataframe tbody tr th:only-of-type {\n",
       "        vertical-align: middle;\n",
       "    }\n",
       "\n",
       "    .dataframe tbody tr th {\n",
       "        vertical-align: top;\n",
       "    }\n",
       "\n",
       "    .dataframe thead th {\n",
       "        text-align: right;\n",
       "    }\n",
       "</style>\n",
       "<table border=\"1\" class=\"dataframe\">\n",
       "  <thead>\n",
       "    <tr style=\"text-align: right;\">\n",
       "      <th></th>\n",
       "      <th>tweet</th>\n",
       "      <th>sentiment</th>\n",
       "    </tr>\n",
       "  </thead>\n",
       "  <tbody>\n",
       "    <tr>\n",
       "      <th>0</th>\n",
       "      <td>warung ini dimiliki oleh pengusaha pabrik tahu...</td>\n",
       "      <td>positive</td>\n",
       "    </tr>\n",
       "    <tr>\n",
       "      <th>1</th>\n",
       "      <td>mohon ulama lurus dan k212 mmbri hujjah partai...</td>\n",
       "      <td>neutral</td>\n",
       "    </tr>\n",
       "    <tr>\n",
       "      <th>2</th>\n",
       "      <td>lokasi strategis di jalan sumatera bandung . t...</td>\n",
       "      <td>positive</td>\n",
       "    </tr>\n",
       "    <tr>\n",
       "      <th>3</th>\n",
       "      <td>betapa bahagia nya diri ini saat unboxing pake...</td>\n",
       "      <td>positive</td>\n",
       "    </tr>\n",
       "    <tr>\n",
       "      <th>4</th>\n",
       "      <td>duh . jadi mahasiswa jangan sombong dong . kas...</td>\n",
       "      <td>negative</td>\n",
       "    </tr>\n",
       "  </tbody>\n",
       "</table>\n",
       "</div>"
      ],
      "text/plain": [
       "                                               tweet sentiment\n",
       "0  warung ini dimiliki oleh pengusaha pabrik tahu...  positive\n",
       "1  mohon ulama lurus dan k212 mmbri hujjah partai...   neutral\n",
       "2  lokasi strategis di jalan sumatera bandung . t...  positive\n",
       "3  betapa bahagia nya diri ini saat unboxing pake...  positive\n",
       "4  duh . jadi mahasiswa jangan sombong dong . kas...  negative"
      ]
     },
     "execution_count": 2,
     "metadata": {},
     "output_type": "execute_result"
    }
   ],
   "source": [
    "df = pd.read_csv('train_preprocess.tsv', delimiter = '\\t', header = None)\n",
    "df.columns = ['tweet', 'sentiment']\n",
    "df.head()"
   ]
  },
  {
   "cell_type": "code",
   "execution_count": 3,
   "id": "29797db7-86af-4247-a6e1-573c959c5ee2",
   "metadata": {
    "tags": []
   },
   "outputs": [],
   "source": [
    "def cleaning_tweet(text):\n",
    "    text = \"\".join([word.lower() for word in text if word not in string.punctuation])\n",
    "    text = re.sub(r'http\\S+', ' ', text)\n",
    "    text = re.sub(r'\\d+',' ', text)\n",
    "    return text"
   ]
  },
  {
   "cell_type": "code",
   "execution_count": 4,
   "id": "c02ed075-6882-46e4-a4dd-edd4ef3f718f",
   "metadata": {
    "tags": []
   },
   "outputs": [],
   "source": [
    "df['clean_tweet'] = df['tweet'].apply(lambda x: cleaning_tweet(x))"
   ]
  },
  {
   "cell_type": "code",
   "execution_count": 5,
   "id": "23696e7b-9030-42d6-9ea8-0b2874384960",
   "metadata": {
    "tags": []
   },
   "outputs": [
    {
     "data": {
      "text/plain": [
       "positive    6416\n",
       "negative    3436\n",
       "neutral     1148\n",
       "Name: sentiment, dtype: int64"
      ]
     },
     "execution_count": 5,
     "metadata": {},
     "output_type": "execute_result"
    }
   ],
   "source": [
    "df['sentiment'].value_counts()"
   ]
  },
  {
   "cell_type": "code",
   "execution_count": 6,
   "id": "0a66f394-7f40-44c5-9a4d-8efa7b19fe50",
   "metadata": {
    "tags": []
   },
   "outputs": [],
   "source": [
    "positif = df[df['sentiment']=='positive']\n",
    "netral = df[df['sentiment']=='neutral']\n",
    "negatif = df[df['sentiment']=='negative']\n",
    "\n",
    "neu = netral.sample(negatif.shape[0], replace = True)\n",
    "\n",
    "df = pd.concat([positif, neu, negatif])"
   ]
  },
  {
   "cell_type": "code",
   "execution_count": 7,
   "id": "5597a9ab-fc20-4e1e-8ddf-dc2a4c141508",
   "metadata": {
    "tags": []
   },
   "outputs": [
    {
     "data": {
      "text/plain": [
       "positive    6416\n",
       "neutral     3436\n",
       "negative    3436\n",
       "Name: sentiment, dtype: int64"
      ]
     },
     "execution_count": 7,
     "metadata": {},
     "output_type": "execute_result"
    }
   ],
   "source": [
    "df['sentiment'].value_counts()"
   ]
  },
  {
   "cell_type": "code",
   "execution_count": 8,
   "id": "8007a68a-b8e2-4de9-9ee9-82b0493dbe86",
   "metadata": {
    "tags": []
   },
   "outputs": [],
   "source": [
    "X = df['clean_tweet']\n",
    "y = df['sentiment']"
   ]
  },
  {
   "cell_type": "code",
   "execution_count": 9,
   "id": "5be9ce78-eb82-437b-8971-c6d474519cd9",
   "metadata": {
    "tags": []
   },
   "outputs": [],
   "source": [
    "from tensorflow.keras.preprocessing.text import Tokenizer\n",
    "from tensorflow.keras.preprocessing.sequence import pad_sequences"
   ]
  },
  {
   "cell_type": "code",
   "execution_count": 10,
   "id": "d1850d11-688d-4874-a040-4148dc708ca0",
   "metadata": {
    "tags": []
   },
   "outputs": [
    {
     "name": "stdout",
     "output_type": "stream",
     "text": [
      "x_pad_sequences.pickle has created!\n",
      "\n",
      "After tokenizing :\n",
      "[10, 390, 2, 97, 37, 3620, 578, 1794, 832, 1, 4, 1261, 90, 1, 140, 314, 61, 197, 352, 671, 96, 353, 12, 10100, 10101, 10102, 7795, 12, 44, 5, 16, 2, 5, 12, 30, 10, 3, 20]\n"
     ]
    }
   ],
   "source": [
    "max_features = 100000\n",
    "tokenizer = Tokenizer(num_words = max_features, split=' ', lower=True)\n",
    "tokenizer.fit_on_texts(X)\n",
    "with open('tokenizer.pickle', 'wb') as handle:\n",
    "    pickle.dump(tokenizer, handle, protocol=pickle.HIGHEST_PROTOCOL)\n",
    "    print(\"x_pad_sequences.pickle has created!\")\n",
    "X = tokenizer.texts_to_sequences(X)\n",
    "\n",
    "\n",
    "print(\"\\nAfter tokenizing :\\n{}\".format(X[18]))"
   ]
  },
  {
   "cell_type": "code",
   "execution_count": 11,
   "id": "26bfb6d1-9536-496c-903d-51867255a4b5",
   "metadata": {
    "tags": []
   },
   "outputs": [
    {
     "name": "stdout",
     "output_type": "stream",
     "text": [
      "x_pad_sequences.pickle has created!\n",
      "\n",
      "After padding :\n",
      "[    0     0     0     0     0     0     0     0     0     0     0     0\n",
      "     0     0     0     0     0     0     0     0     0     0     0     0\n",
      "     0     0     0     0     0     0     0     0     0     0     0     0\n",
      "     0     0     0     0     0     0     0     0     0     0     0    10\n",
      "   390     2    97    37  3620   578  1794   832     1     4  1261    90\n",
      "     1   140   314    61   197   352   671    96   353    12 10100 10101\n",
      " 10102  7795    12    44     5    16     2     5    12    30    10     3\n",
      "    20]\n",
      "\n",
      "After padding :\n",
      "[   0    0    0    0    0    0    0    0    0    0    0    0    0    0\n",
      "    0    0    0    0    0    0    0    0    0    0    0    0    0    0\n",
      "    0    0    0    0    0    0    0    0    0    0    0    0    0    0\n",
      "   72   63    8    6   34  167    8   81    2 1294    3   67   21  849\n",
      "    7  167  190    2    6  151  149  215  589    1   75   37    3  316\n",
      "    4  167    1   14    5 1720  864    1  989  165    9    2  186  151\n",
      "  149]\n"
     ]
    }
   ],
   "source": [
    "X = pad_sequences(X)\n",
    "with open('x_pad_sequences.pickle', 'wb') as handle:\n",
    "    pickle.dump(X, handle, protocol=pickle.HIGHEST_PROTOCOL)\n",
    "    print(\"x_pad_sequences.pickle has created!\")\n",
    "\n",
    "print(\"\\nAfter padding :\\n{}\".format(X[18]))\n",
    "print(\"\\nAfter padding :\\n{}\".format(X[19]))"
   ]
  },
  {
   "cell_type": "code",
   "execution_count": 12,
   "id": "af7b6d47-4301-4d1d-8403-61e48ae9d9ee",
   "metadata": {
    "tags": []
   },
   "outputs": [],
   "source": [
    "y = pd.get_dummies(y)\n",
    "y = y.values\n",
    "#with open('y_labels.pickle', 'wb') as handle:\n",
    "    #pickle.dump(y, handle, protocol=pickle.HIGHEST_PROTOCOL)\n",
    "    #print(\"y_labels.pickle has created!\")"
   ]
  },
  {
   "cell_type": "code",
   "execution_count": 13,
   "id": "65d99b17-7f30-4765-a22a-d7bfcbabdc83",
   "metadata": {
    "tags": []
   },
   "outputs": [],
   "source": [
    "from sklearn.model_selection import train_test_split\n",
    "X_train, X_test, y_train, y_test = train_test_split(X, y, test_size=0.2, random_state=42)"
   ]
  },
  {
   "cell_type": "code",
   "execution_count": 14,
   "id": "f6888353-9677-462d-bc64-16c5bfcafdbb",
   "metadata": {
    "tags": []
   },
   "outputs": [
    {
     "name": "stdout",
     "output_type": "stream",
     "text": [
      "X_train (10630, 85)\n",
      "y_train (10630, 3)\n",
      "X_test (2658, 85)\n",
      "y_test (2658, 3)\n"
     ]
    }
   ],
   "source": [
    "print('X_train', X_train.shape)\n",
    "print('y_train', y_train.shape)\n",
    "print('X_test', X_test.shape)\n",
    "print('y_test', y_test.shape)"
   ]
  },
  {
   "cell_type": "code",
   "execution_count": 15,
   "id": "13b0861e-7ee2-48ab-aedd-f6d4a90a00f6",
   "metadata": {
    "tags": []
   },
   "outputs": [],
   "source": [
    "from tensorflow.keras import layers\n",
    "from tensorflow.keras.models import Sequential\n",
    "from tensorflow.keras.layers import Dense, Embedding, LSTM, SpatialDropout1D, SimpleRNN, Activation\n",
    "from tensorflow.keras import optimizers\n",
    "from tensorflow.keras.callbacks import EarlyStopping, TensorBoard\n",
    "from tensorflow.keras.layers import Flatten\n",
    "from tensorflow.keras import backend as K\n",
    "from sklearn import metrics\n",
    "from sklearn.metrics import classification_report\n",
    "from sklearn.metrics import accuracy_score\n",
    "from sklearn.model_selection import KFold"
   ]
  },
  {
   "cell_type": "code",
   "execution_count": 16,
   "id": "0077f84d-0afb-4434-bd18-7c7f52b8b57d",
   "metadata": {
    "tags": []
   },
   "outputs": [
    {
     "name": "stdout",
     "output_type": "stream",
     "text": [
      "WARNING:tensorflow:From C:\\Users\\User\\anaconda3\\Lib\\site-packages\\keras\\src\\backend.py:873: The name tf.get_default_graph is deprecated. Please use tf.compat.v1.get_default_graph instead.\n",
      "\n",
      "Epoch 1/50\n",
      "WARNING:tensorflow:From C:\\Users\\User\\anaconda3\\Lib\\site-packages\\keras\\src\\utils\\tf_utils.py:492: The name tf.ragged.RaggedTensorValue is deprecated. Please use tf.compat.v1.ragged.RaggedTensorValue instead.\n",
      "\n",
      "WARNING:tensorflow:From C:\\Users\\User\\anaconda3\\Lib\\site-packages\\keras\\src\\engine\\base_layer_utils.py:384: The name tf.executing_eagerly_outside_functions is deprecated. Please use tf.compat.v1.executing_eagerly_outside_functions instead.\n",
      "\n",
      "333/333 [==============================] - 52s 145ms/step - loss: 0.7431 - accuracy: 0.6702 - val_loss: 0.5700 - val_accuracy: 0.7833\n",
      "Epoch 2/50\n",
      "333/333 [==============================] - 48s 143ms/step - loss: 0.4689 - accuracy: 0.8160 - val_loss: 0.3612 - val_accuracy: 0.8604\n",
      "Epoch 3/50\n",
      "333/333 [==============================] - 47s 142ms/step - loss: 0.3101 - accuracy: 0.8878 - val_loss: 0.2863 - val_accuracy: 0.8924\n",
      "Epoch 4/50\n",
      "333/333 [==============================] - 47s 142ms/step - loss: 0.2330 - accuracy: 0.9160 - val_loss: 0.2661 - val_accuracy: 0.8980\n",
      "Epoch 5/50\n",
      "333/333 [==============================] - 47s 140ms/step - loss: 0.1896 - accuracy: 0.9277 - val_loss: 0.2524 - val_accuracy: 0.9018\n",
      "Epoch 6/50\n",
      "333/333 [==============================] - 47s 140ms/step - loss: 0.1526 - accuracy: 0.9458 - val_loss: 0.2553 - val_accuracy: 0.8973\n",
      "Epoch 7/50\n",
      "333/333 [==============================] - 46s 140ms/step - loss: 0.1325 - accuracy: 0.9500 - val_loss: 0.2718 - val_accuracy: 0.9026\n",
      "Epoch 7: early stopping\n",
      "84/84 [==============================] - 1s 8ms/step\n",
      "Training ke- 1\n",
      "              precision    recall  f1-score   support\n",
      "\n",
      "           0       0.80      0.87      0.83       686\n",
      "           1       0.95      0.97      0.96       682\n",
      "           2       0.94      0.89      0.91      1290\n",
      "\n",
      "    accuracy                           0.90      2658\n",
      "   macro avg       0.90      0.91      0.90      2658\n",
      "weighted avg       0.91      0.90      0.90      2658\n",
      "\n",
      "======================================================\n",
      "Epoch 1/50\n",
      "333/333 [==============================] - 49s 141ms/step - loss: 0.7697 - accuracy: 0.6529 - val_loss: 0.5671 - val_accuracy: 0.7927\n",
      "Epoch 2/50\n",
      "333/333 [==============================] - 46s 139ms/step - loss: 0.4731 - accuracy: 0.8203 - val_loss: 0.3936 - val_accuracy: 0.8446\n",
      "Epoch 3/50\n",
      "333/333 [==============================] - 46s 139ms/step - loss: 0.3236 - accuracy: 0.8769 - val_loss: 0.3033 - val_accuracy: 0.8853\n",
      "Epoch 4/50\n",
      "333/333 [==============================] - 47s 140ms/step - loss: 0.2443 - accuracy: 0.9082 - val_loss: 0.2642 - val_accuracy: 0.8988\n",
      "Epoch 5/50\n",
      "333/333 [==============================] - 46s 139ms/step - loss: 0.1902 - accuracy: 0.9290 - val_loss: 0.2355 - val_accuracy: 0.9048\n",
      "Epoch 6/50\n",
      "333/333 [==============================] - 46s 139ms/step - loss: 0.1573 - accuracy: 0.9413 - val_loss: 0.2755 - val_accuracy: 0.8992\n",
      "Epoch 7/50\n",
      "333/333 [==============================] - 46s 138ms/step - loss: 0.1351 - accuracy: 0.9485 - val_loss: 0.2544 - val_accuracy: 0.9090\n",
      "Epoch 7: early stopping\n",
      "84/84 [==============================] - 2s 8ms/step\n",
      "Training ke- 2\n",
      "              precision    recall  f1-score   support\n",
      "\n",
      "           0       0.86      0.83      0.84       686\n",
      "           1       0.92      0.98      0.95       682\n",
      "           2       0.93      0.91      0.92      1290\n",
      "\n",
      "    accuracy                           0.91      2658\n",
      "   macro avg       0.90      0.91      0.90      2658\n",
      "weighted avg       0.91      0.91      0.91      2658\n",
      "\n",
      "======================================================\n",
      "Epoch 1/50\n",
      "333/333 [==============================] - 49s 140ms/step - loss: 0.7567 - accuracy: 0.6611 - val_loss: 0.5925 - val_accuracy: 0.7705\n",
      "Epoch 2/50\n",
      "333/333 [==============================] - 46s 139ms/step - loss: 0.4907 - accuracy: 0.8090 - val_loss: 0.4318 - val_accuracy: 0.8243\n",
      "Epoch 3/50\n",
      "333/333 [==============================] - 47s 140ms/step - loss: 0.3234 - accuracy: 0.8801 - val_loss: 0.3148 - val_accuracy: 0.8804\n",
      "Epoch 4/50\n",
      "333/333 [==============================] - 46s 139ms/step - loss: 0.2435 - accuracy: 0.9095 - val_loss: 0.2901 - val_accuracy: 0.8939\n",
      "Epoch 5/50\n",
      "333/333 [==============================] - 47s 140ms/step - loss: 0.1888 - accuracy: 0.9286 - val_loss: 0.2535 - val_accuracy: 0.8935\n",
      "Epoch 6/50\n",
      "333/333 [==============================] - 47s 140ms/step - loss: 0.1568 - accuracy: 0.9432 - val_loss: 0.2643 - val_accuracy: 0.9026\n",
      "Epoch 7/50\n",
      "333/333 [==============================] - 47s 141ms/step - loss: 0.1326 - accuracy: 0.9516 - val_loss: 0.2540 - val_accuracy: 0.9029\n",
      "Epoch 7: early stopping\n",
      "84/84 [==============================] - 1s 8ms/step\n",
      "Training ke- 3\n",
      "              precision    recall  f1-score   support\n",
      "\n",
      "           0       0.87      0.78      0.82       686\n",
      "           1       0.96      0.96      0.96       682\n",
      "           2       0.89      0.94      0.91      1290\n",
      "\n",
      "    accuracy                           0.90      2658\n",
      "   macro avg       0.91      0.89      0.90      2658\n",
      "weighted avg       0.90      0.90      0.90      2658\n",
      "\n",
      "======================================================\n",
      "Epoch 1/50\n",
      "333/333 [==============================] - 49s 141ms/step - loss: 0.7694 - accuracy: 0.6637 - val_loss: 0.6400 - val_accuracy: 0.7054\n",
      "Epoch 2/50\n",
      "333/333 [==============================] - 46s 139ms/step - loss: 0.4672 - accuracy: 0.8193 - val_loss: 0.3662 - val_accuracy: 0.8457\n",
      "Epoch 3/50\n",
      "333/333 [==============================] - 47s 141ms/step - loss: 0.3053 - accuracy: 0.8837 - val_loss: 0.3008 - val_accuracy: 0.8875\n",
      "Epoch 4/50\n",
      "333/333 [==============================] - 46s 139ms/step - loss: 0.2289 - accuracy: 0.9153 - val_loss: 0.2747 - val_accuracy: 0.8965\n",
      "Epoch 5/50\n",
      "333/333 [==============================] - 46s 139ms/step - loss: 0.1845 - accuracy: 0.9325 - val_loss: 0.2574 - val_accuracy: 0.9044\n",
      "Epoch 6/50\n",
      "333/333 [==============================] - 46s 139ms/step - loss: 0.1491 - accuracy: 0.9456 - val_loss: 0.2338 - val_accuracy: 0.9161\n",
      "Epoch 7/50\n",
      "333/333 [==============================] - 46s 140ms/step - loss: 0.1263 - accuracy: 0.9507 - val_loss: 0.2685 - val_accuracy: 0.9063\n",
      "Epoch 8/50\n",
      "333/333 [==============================] - 47s 140ms/step - loss: 0.1127 - accuracy: 0.9558 - val_loss: 0.3087 - val_accuracy: 0.8947\n",
      "Epoch 8: early stopping\n",
      "84/84 [==============================] - 1s 8ms/step\n",
      "Training ke- 4\n",
      "              precision    recall  f1-score   support\n",
      "\n",
      "           0       0.87      0.76      0.81       686\n",
      "           1       0.91      0.98      0.94       682\n",
      "           2       0.90      0.92      0.91      1290\n",
      "\n",
      "    accuracy                           0.89      2658\n",
      "   macro avg       0.89      0.89      0.89      2658\n",
      "weighted avg       0.89      0.89      0.89      2658\n",
      "\n",
      "======================================================\n",
      "Epoch 1/50\n",
      "333/333 [==============================] - 49s 140ms/step - loss: 0.7556 - accuracy: 0.6655 - val_loss: 0.6286 - val_accuracy: 0.7430\n",
      "Epoch 2/50\n",
      "333/333 [==============================] - 46s 139ms/step - loss: 0.4780 - accuracy: 0.8147 - val_loss: 0.4000 - val_accuracy: 0.8491\n",
      "Epoch 3/50\n",
      "333/333 [==============================] - 47s 140ms/step - loss: 0.3103 - accuracy: 0.8833 - val_loss: 0.3015 - val_accuracy: 0.8804\n",
      "Epoch 4/50\n",
      "333/333 [==============================] - 45s 136ms/step - loss: 0.2358 - accuracy: 0.9157 - val_loss: 0.2571 - val_accuracy: 0.9029\n",
      "Epoch 5/50\n",
      "333/333 [==============================] - 45s 136ms/step - loss: 0.1870 - accuracy: 0.9297 - val_loss: 0.2424 - val_accuracy: 0.9056\n",
      "Epoch 6/50\n",
      "333/333 [==============================] - 45s 135ms/step - loss: 0.1467 - accuracy: 0.9477 - val_loss: 0.2576 - val_accuracy: 0.8962\n",
      "Epoch 7/50\n",
      "333/333 [==============================] - 46s 138ms/step - loss: 0.1274 - accuracy: 0.9509 - val_loss: 0.2469 - val_accuracy: 0.9074\n",
      "Epoch 7: early stopping\n",
      "84/84 [==============================] - 1s 8ms/step\n",
      "Training ke- 5\n",
      "              precision    recall  f1-score   support\n",
      "\n",
      "           0       0.86      0.80      0.83       686\n",
      "           1       0.94      0.97      0.95       682\n",
      "           2       0.91      0.93      0.92      1290\n",
      "\n",
      "    accuracy                           0.91      2658\n",
      "   macro avg       0.90      0.90      0.90      2658\n",
      "weighted avg       0.91      0.91      0.91      2658\n",
      "\n",
      "======================================================\n",
      "\n",
      "\n",
      "\n",
      "Rata-rata Accuracy:  0.9033\n"
     ]
    }
   ],
   "source": [
    "kf = KFold(n_splits=5,random_state=42,shuffle=True)\n",
    "\n",
    "accuracies = []\n",
    "\n",
    "embed_dim = 100\n",
    "units = 64\n",
    "\n",
    "for iteration, data in enumerate(kf.split(X), start=1):\n",
    "\n",
    "    data_train   = X[data[0]]\n",
    "    target_train = y[data[0]]\n",
    "\n",
    "    data_test    = X[data[1]]\n",
    "    target_test  = y[data[1]]\n",
    "    \n",
    "    # Create model architecture\n",
    "\n",
    "    model = Sequential()\n",
    "    model.add(Embedding(max_features, embed_dim, input_length=X.shape[1]))\n",
    "    model.add(SimpleRNN(units, dropout=0.8))\n",
    "    model.add(Dense(3,activation='softmax'))\n",
    "    # model.compile(loss = 'binary_crossentropy', optimizer='adam', metrics = ['accuracy'])\n",
    "\n",
    "    adam = optimizers.Adam(learning_rate = 0.0005)\n",
    "    model.compile(loss = 'categorical_crossentropy', optimizer = adam, metrics = ['accuracy'])\n",
    "\n",
    "    es = EarlyStopping(monitor='val_loss', mode='min', verbose=1, patience=2)\n",
    "    history = model.fit(X_train, y_train, epochs=50, batch_size=32, \n",
    "                        validation_data=(X_test, y_test), verbose=1, callbacks=[es])\n",
    "\n",
    "    predictions = model.predict(X_test)\n",
    "    y_pred = predictions\n",
    "\n",
    "    # for the current fold only\n",
    "    \n",
    "    accuracy = accuracy_score(y_test.argmax(axis=1), y_pred.argmax(axis=1))\n",
    "\n",
    "    print(\"Training ke-\", iteration)\n",
    "    print(classification_report(y_test.argmax(axis=1), y_pred.argmax(axis=1)))\n",
    "    print(\"======================================================\")\n",
    "\n",
    "    accuracies.append(accuracy)\n",
    "\n",
    "# this is the average accuracy over all folds\n",
    "\n",
    "average_accuracy = np.mean(accuracies)\n",
    "\n",
    "print()\n",
    "print()\n",
    "print()\n",
    "print(\"Rata-rata Accuracy: \", round(average_accuracy,4))"
   ]
  },
  {
   "cell_type": "code",
   "execution_count": 19,
   "id": "ccecbdb4-98c6-4754-95ec-e15859835ada",
   "metadata": {
    "tags": []
   },
   "outputs": [
    {
     "name": "stderr",
     "output_type": "stream",
     "text": [
      "C:\\Users\\User\\anaconda3\\Lib\\site-packages\\keras\\src\\engine\\training.py:3103: UserWarning: You are saving your model as an HDF5 file via `model.save()`. This file format is considered legacy. We recommend using instead the native Keras format, e.g. `model.save('my_model.keras')`.\n",
      "  saving_api.save_model(\n"
     ]
    }
   ],
   "source": [
    "model.save('NN.h5')"
   ]
  },
  {
   "cell_type": "code",
   "execution_count": 17,
   "id": "e19f81c0-797d-4061-88bb-010abf3828c8",
   "metadata": {
    "tags": []
   },
   "outputs": [
    {
     "data": {
      "image/png": "[encoded data removed]",
      "text/plain": [
       "<Figure size 2400x700 with 2 Axes>"
      ]
     },
     "metadata": {},
     "output_type": "display_data"
    }
   ],
   "source": [
    "plt.style.use('ggplot')\n",
    "\n",
    "def plot_history(history):\n",
    "    acc = history.history['accuracy']\n",
    "    val_acc = history.history['val_accuracy']\n",
    "    loss = history.history['loss']\n",
    "    val_loss = history.history['val_loss']\n",
    "    x = range(1, len(acc) + 1)\n",
    "\n",
    "    plt.figure(figsize=(24, 7))\n",
    "    plt.subplot(1, 2, 1)\n",
    "    plt.plot(x, acc, 'b', label='Training acc')\n",
    "    plt.plot(x, val_acc, 'r', label='Validation acc')\n",
    "    plt.title('Training and validation accuracy')\n",
    "    plt.legend()\n",
    "    plt.subplot(1, 2, 2)\n",
    "    plt.plot(x, loss, 'b', label='Training loss')\n",
    "    plt.plot(x, val_loss, 'r', label='Validation loss')\n",
    "    plt.title('Training and validation loss')\n",
    "    plt.legend()\n",
    "\n",
    "%matplotlib inline\n",
    "plot_history(history)"
   ]
  },
  {
   "cell_type": "code",
   "execution_count": 24,
   "id": "fdda0599-5874-4771-89be-38b77077faeb",
   "metadata": {
    "tags": []
   },
   "outputs": [
    {
     "name": "stdout",
     "output_type": "stream",
     "text": [
      "1/1 [==============================] - 0s 252ms/step\n",
      "Text:  jangan menyerah \n",
      "Sentiment: negative\n"
     ]
    }
   ],
   "source": [
    "input_text = \"\"\"\n",
    "jangan menyerah \"\"\"\n",
    "\n",
    "def cleansing(sent):\n",
    "    string = sent.lower()\n",
    "    string = re.sub(r'[^a-zA-Z0-9]', ' ', string)\n",
    "    return string\n",
    "\n",
    "sentiment = ['negative', 'neutral', 'positive']\n",
    "\n",
    "text = [cleansing(input_text)]\n",
    "predicted = tokenizer.texts_to_sequences(text)\n",
    "guess = pad_sequences(predicted, maxlen=X.shape[1])\n",
    "\n",
    "model = load_model('NN_MODEL/NN.h5')\n",
    "prediction = model.predict(guess)\n",
    "polarity = np.argmax(prediction[0])\n",
    "hasil = sentiment[polarity]\n",
    "\n",
    "print(\"Text: %s\" % text[0])\n",
    "print(\"Sentiment: %s\" % sentiment[polarity])"
   ]
  },
  {
   "cell_type": "code",
   "execution_count": null,
   "id": "73935056-c858-42b4-a4e4-bba5a249a3cc",
   "metadata": {},
   "outputs": [],
   "source": []
  }
 ],
 "metadata": {
  "kernelspec": {
   "display_name": "Python 3 (ipykernel)",
   "language": "python",
   "name": "python3"
  },
  "language_info": {
   "codemirror_mode": {
    "name": "ipython",
    "version": 3
   },
   "file_extension": ".py",
   "mimetype": "text/x-python",
   "name": "python",
   "nbconvert_exporter": "python",
   "pygments_lexer": "ipython3",
   "version": "3.11.4"
  }
 },
 "nbformat": 4,
 "nbformat_minor": 5
}
